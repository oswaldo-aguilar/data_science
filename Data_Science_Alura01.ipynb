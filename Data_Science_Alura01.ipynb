{
  "nbformat": 4,
  "nbformat_minor": 0,
  "metadata": {
    "colab": {
      "name": "Data_Science_Alura01",
      "provenance": [],
      "private_outputs": true,
      "collapsed_sections": [],
      "include_colab_link": true
    },
    "kernelspec": {
      "name": "python3",
      "display_name": "Python 3"
    },
    "accelerator": "GPU"
  },
  "cells": [
    {
      "cell_type": "markdown",
      "metadata": {
        "id": "view-in-github",
        "colab_type": "text"
      },
      "source": [
        "<a href=\"https://colab.research.google.com/github/oswaldo-aguilar/data_science/blob/master/Data_Science_Alura01.ipynb\" target=\"_parent\"><img src=\"https://colab.research.google.com/assets/colab-badge.svg\" alt=\"Open In Colab\"/></a>"
      ]
    },
    {
      "cell_type": "markdown",
      "metadata": {
        "id": "fanBnEbUrDTA",
        "colab_type": "text"
      },
      "source": [
        "#RATINGS"
      ]
    },
    {
      "cell_type": "code",
      "metadata": {
        "id": "eCBOji8jXAaz",
        "colab_type": "code",
        "colab": {}
      },
      "source": [
        "from google.colab import drive\n",
        "drive.mount('/content/drive')"
      ],
      "execution_count": 0,
      "outputs": []
    },
    {
      "cell_type": "code",
      "metadata": {
        "id": "tmsE1kz8dkam",
        "colab_type": "code",
        "colab": {},
        "cellView": "form"
      },
      "source": [
        "#@title Update -Seaborn\n",
        "!pip install seaborn\n",
        "import seaborn as sns\n",
        "print(sns.__version__)"
      ],
      "execution_count": 0,
      "outputs": []
    },
    {
      "cell_type": "code",
      "metadata": {
        "id": "UPXJABVuJVYh",
        "colab_type": "code",
        "cellView": "form",
        "colab": {}
      },
      "source": [
        "#@title Import PANDA\n",
        "import pandas as pd"
      ],
      "execution_count": 0,
      "outputs": []
    },
    {
      "cell_type": "code",
      "metadata": {
        "id": "S8gH-Y3AJZH2",
        "colab_type": "code",
        "cellView": "form",
        "colab": {}
      },
      "source": [
        "#@title Read Base\n",
        "pd.read_csv('/content/drive/My Drive/Colab Notebooks/Data_Science_Alura/Data_Science_Alura01/ratings.csv')"
      ],
      "execution_count": 0,
      "outputs": []
    },
    {
      "cell_type": "code",
      "metadata": {
        "id": "CfIInyocJktj",
        "colab_type": "code",
        "cellView": "form",
        "colab": {}
      },
      "source": [
        "#@title Assign a base and show head\n",
        "notas = pd.read_csv('/content/drive/My Drive/Colab Notebooks/Data_Science_Alura/Data_Science_Alura01/ratings.csv')\n",
        "notas.head()"
      ],
      "execution_count": 0,
      "outputs": []
    },
    {
      "cell_type": "code",
      "metadata": {
        "id": "U1pXinlxKRj-",
        "colab_type": "code",
        "cellView": "form",
        "colab": {}
      },
      "source": [
        "#@title Change columns\n",
        "notas.columns = ['User', 'filmeId', 'nota', 'time']"
      ],
      "execution_count": 0,
      "outputs": []
    },
    {
      "cell_type": "code",
      "metadata": {
        "id": "qfLUpTgkMdQH",
        "colab_type": "code",
        "cellView": "form",
        "colab": {}
      },
      "source": [
        "#@title Description\n",
        "notas.nota.describe()"
      ],
      "execution_count": 0,
      "outputs": []
    },
    {
      "cell_type": "code",
      "metadata": {
        "id": "ic6ZJBa_LCV-",
        "colab_type": "code",
        "cellView": "form",
        "colab": {}
      },
      "source": [
        "#@title Counts\n",
        "notas ['nota'].unique()\n",
        "notas ['nota'].value_counts()"
      ],
      "execution_count": 0,
      "outputs": []
    },
    {
      "cell_type": "code",
      "metadata": {
        "id": "cYMYUjVZLExF",
        "colab_type": "code",
        "cellView": "form",
        "colab": {}
      },
      "source": [
        "#@title Histogram chart\n",
        "notas.nota.plot(kind='hist')"
      ],
      "execution_count": 0,
      "outputs": []
    },
    {
      "cell_type": "code",
      "metadata": {
        "id": "hTLVbfcqLV5k",
        "colab_type": "code",
        "cellView": "form",
        "colab": {}
      },
      "source": [
        "#@title Mean / Median\n",
        "print('Média',notas['nota'].mean())\n",
        "print('Médianotas',notas['nota'].median())"
      ],
      "execution_count": 0,
      "outputs": []
    },
    {
      "cell_type": "code",
      "metadata": {
        "id": "4_qpV6lLOg7N",
        "colab_type": "code",
        "cellView": "form",
        "colab": {}
      },
      "source": [
        "#@title Import SEABORN and BoxPlot\n",
        "import seaborn as sns\n",
        "sns.boxplot(notas.nota)"
      ],
      "execution_count": 0,
      "outputs": []
    },
    {
      "cell_type": "markdown",
      "metadata": {
        "id": "fuSNbVrERVlY",
        "colab_type": "text"
      },
      "source": [
        "# Movies\n"
      ]
    },
    {
      "cell_type": "markdown",
      "metadata": {
        "id": "1waLmnzkwPx4",
        "colab_type": "text"
      },
      "source": [
        "[link text](https://pandas.pydata.org/pandas-docs/stable/reference/api/pandas.core.groupby.DataFrameGroupBy.describe.html)"
      ]
    },
    {
      "cell_type": "code",
      "metadata": {
        "id": "WqPCSGpLRUAl",
        "colab_type": "code",
        "cellView": "form",
        "colab": {}
      },
      "source": [
        "#@title Assign and show head and charge columns\n",
        "filmes = pd.read_csv('/content/drive/My Drive/Colab Notebooks/Data_Science_Alura/Data_Science_Alura01/movies.csv')\n",
        "filmes.columns = ['filmeId', 'titulo', 'generos']\n",
        "filmes.head()"
      ],
      "execution_count": 0,
      "outputs": []
    },
    {
      "cell_type": "code",
      "metadata": {
        "id": "SvDPQvStSBpr",
        "colab_type": "code",
        "cellView": "form",
        "colab": {}
      },
      "source": [
        "#@title Query(filmeId==1 de nota)+mean - MOVIE 1\n",
        "notas.query('filmeId==1').nota.mean()"
      ],
      "execution_count": 0,
      "outputs": []
    },
    {
      "cell_type": "code",
      "metadata": {
        "id": "qzjgwGq3TjCz",
        "colab_type": "code",
        "cellView": "form",
        "colab": {}
      },
      "source": [
        "#@title Query(filmeId==1 de nota)+mean - MOVIE 2\n",
        "notas.query('filmeId==2').nota.mean()"
      ],
      "execution_count": 0,
      "outputs": []
    },
    {
      "cell_type": "code",
      "metadata": {
        "id": "XzLO9ONPXeIm",
        "colab_type": "code",
        "cellView": "form",
        "colab": {}
      },
      "source": [
        "#@title Query(filmeId==1 de nota)+mean - MOVIE 3\n",
        "notas.query('filmeId==3').nota.mean()"
      ],
      "execution_count": 0,
      "outputs": []
    },
    {
      "cell_type": "code",
      "metadata": {
        "id": "6DG4xDsFugcy",
        "colab_type": "code",
        "cellView": "form",
        "colab": {}
      },
      "source": [
        "#@title Groupby\n",
        "notas.groupby('filmeId')"
      ],
      "execution_count": 0,
      "outputs": []
    },
    {
      "cell_type": "code",
      "metadata": {
        "id": "UrXr4uHZvM53",
        "colab_type": "code",
        "cellView": "form",
        "colab": {}
      },
      "source": [
        "#@title groupby + mean + assign\n",
        "medias_por_filme = notas.groupby('filmeId').mean()['nota']\n",
        "medias_por_filme.head()"
      ],
      "execution_count": 0,
      "outputs": []
    },
    {
      "cell_type": "code",
      "metadata": {
        "id": "xDiPx9A0wSeD",
        "colab_type": "code",
        "cellView": "form",
        "colab": {}
      },
      "source": [
        "#@title Histogram chart - PANDA\n",
        "medias_por_filme.plot(kind='hist')"
      ],
      "execution_count": 0,
      "outputs": []
    },
    {
      "cell_type": "code",
      "metadata": {
        "id": "KX--CgnJ0_jf",
        "colab_type": "code",
        "cellView": "form",
        "colab": {}
      },
      "source": [
        "#@title Histogram chart - SEABORN \n",
        "sns.boxplot(medias_por_filme)"
      ],
      "execution_count": 0,
      "outputs": []
    },
    {
      "cell_type": "code",
      "metadata": {
        "id": "PS5KUIXq2M82",
        "colab_type": "code",
        "cellView": "form",
        "colab": {}
      },
      "source": [
        "#@title Describe\n",
        "medias_por_filme.describe()"
      ],
      "execution_count": 0,
      "outputs": []
    },
    {
      "cell_type": "code",
      "metadata": {
        "id": "jIiK1i582dzl",
        "colab_type": "code",
        "cellView": "form",
        "colab": {}
      },
      "source": [
        "#@title Histogram chart - SEABORN\n",
        "sns.distplot(medias_por_filme, bins=10)"
      ],
      "execution_count": 0,
      "outputs": []
    },
    {
      "cell_type": "code",
      "metadata": {
        "id": "swIpfFHw3IFl",
        "colab_type": "code",
        "cellView": "form",
        "colab": {}
      },
      "source": [
        "#@title library low level + Figure + Title\n",
        "import matplotlib.pyplot as plt\n",
        "plt.hist(medias_por_filme)\n",
        "plt.title('Histograma mean Movies')\n",
        "plt.figure(figsize=(5,10))"
      ],
      "execution_count": 0,
      "outputs": []
    },
    {
      "cell_type": "markdown",
      "metadata": {
        "id": "kHj4hzjx8VAl",
        "colab_type": "text"
      },
      "source": [
        "# TMDB 5K MOVIES\n",
        "[DATA](https://www.kaggle.com/tmdb/tmdb-movie-metadata/)\n",
        "\n",
        "[Barplot-seaborn](https://seaborn.pydata.org/tutorial/categorical.html)\n",
        "\n",
        "[Catplot - seaborn](https://seaborn.pydata.org/generated/seaborn.catplot.html)\n",
        "\n",
        "[Matplot](https://matplotlib.org/3.1.1/api/_as_gen/matplotlib.pyplot.pie.html)\n"
      ]
    },
    {
      "cell_type": "code",
      "metadata": {
        "id": "nTxogxQC8xrk",
        "colab_type": "code",
        "colab": {}
      },
      "source": [
        "#@title Import PANDAS\n",
        "import pandas as pd\n",
        "tmdb = pd.read_csv('/content/drive/My Drive/Colab Notebooks/tmdb_5000_movies.csv')\n",
        "tmdb.head()"
      ],
      "execution_count": 0,
      "outputs": []
    },
    {
      "cell_type": "code",
      "metadata": {
        "id": "3eqmsRU8_F4S",
        "colab_type": "code",
        "cellView": "both",
        "colab": {}
      },
      "source": [
        "#@title Show columns - unique\n",
        "tmdb.original_language.unique()"
      ],
      "execution_count": 0,
      "outputs": []
    },
    {
      "cell_type": "code",
      "metadata": {
        "id": "N9WvN2XMnQHm",
        "colab_type": "code",
        "colab": {}
      },
      "source": [
        "#@title Count value\n",
        "tmdb['original_language'].value_counts()"
      ],
      "execution_count": 0,
      "outputs": []
    },
    {
      "cell_type": "code",
      "metadata": {
        "id": "MQmm2ie9nW1l",
        "colab_type": "code",
        "colab": {},
        "cellView": "both"
      },
      "source": [
        "#@title To frame / frama to .index\n",
        "contagem_de_lingua = tmdb['original_language'].value_counts().to_frame().reset_index()\n",
        "contagem_de_lingua.columns = ['original_language', 'total']"
      ],
      "execution_count": 0,
      "outputs": []
    },
    {
      "cell_type": "code",
      "metadata": {
        "id": "zoGgfbkiQHI3",
        "colab_type": "code",
        "colab": {},
        "cellView": "both"
      },
      "source": [
        "#@title Barplot - seaborn (low level)\n",
        "import seaborn as sns\n",
        "sns.barplot(x='original_language', y='total', data = contagem_de_lingua)"
      ],
      "execution_count": 0,
      "outputs": []
    },
    {
      "cell_type": "code",
      "metadata": {
        "id": "plTlDUqSaVxp",
        "colab_type": "code",
        "colab": {}
      },
      "source": [
        "#@title Catplot - Seaborn (high level)\n",
        "import seaborn as sns\n",
        "sns.catplot(x = 'original_language', kind='count', data = tmdb)"
      ],
      "execution_count": 0,
      "outputs": []
    },
    {
      "cell_type": "code",
      "metadata": {
        "id": "X2gAz4QyXeX3",
        "colab_type": "code",
        "colab": {}
      },
      "source": [
        "#@title graphic pizza\n",
        "plt.pie(contagem_de_lingua['total'], labels = contagem_de_lingua['original_language'])"
      ],
      "execution_count": 0,
      "outputs": []
    },
    {
      "cell_type": "code",
      "metadata": {
        "id": "HxM7MuZQv8kU",
        "colab_type": "code",
        "colab": {}
      },
      "source": [
        "#@title two variables with base tmdb\n",
        "total_por_lingua = tmdb['original_language'].value_counts()\n",
        "total_geral = total_por_lingua.sum()\n",
        "total_ingles = total_por_lingua.loc['en']\n",
        "resto = total_geral - total_ingles\n",
        "total_ingles, resto\n",
        "print(total_ingles, resto )\n"
      ],
      "execution_count": 0,
      "outputs": []
    },
    {
      "cell_type": "code",
      "metadata": {
        "id": "FRk6aqNo3Jgt",
        "colab_type": "code",
        "colab": {}
      },
      "source": [
        "#@title preparing dataframe\n",
        "dados = {\n",
        "    'lingua' : ['ingles', 'outros'],\n",
        "    'total' : [total_ingles, resto]\n",
        "}\n",
        "dados"
      ],
      "execution_count": 0,
      "outputs": []
    },
    {
      "cell_type": "code",
      "metadata": {
        "id": "2V79MEKSji4H",
        "colab_type": "code",
        "colab": {}
      },
      "source": [
        "#@title Data frame\n",
        "pd.DataFrame(dados)\n",
        "dados = pd.DataFrame(dados)\n",
        "dados"
      ],
      "execution_count": 0,
      "outputs": []
    },
    {
      "cell_type": "code",
      "metadata": {
        "id": "upcD2lYMjuGc",
        "colab_type": "code",
        "colab": {}
      },
      "source": [
        "sns.barplot(x='lingua', y='total', data=dados)"
      ],
      "execution_count": 0,
      "outputs": []
    }
  ]
}